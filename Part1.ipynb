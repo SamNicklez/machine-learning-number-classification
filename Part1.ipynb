{
 "cells": [
  {
   "cell_type": "markdown",
   "metadata": {},
   "source": [
    "## PART 1, Samuel Nicklaus"
   ]
  },
  {
   "cell_type": "code",
   "execution_count": 1,
   "metadata": {},
   "outputs": [],
   "source": [
    "%matplotlib inline\n",
    "import numpy as np\n",
    "import matplotlib.pyplot as plt\n",
    "from scipy import stats\n",
    "from sklearn.datasets import fetch_openml\n",
    "import pickle\n",
    "from scipy.special import expit\n",
    "from sklearn.model_selection import train_test_split\n",
    "import ssl\n",
    "ssl._create_default_https_context = ssl._create_unverified_context"
   ]
  },
  {
   "cell_type": "markdown",
   "metadata": {},
   "source": [
    "## Open MNIST data and create a subset with desired digits\n",
    "MNIST dataset contains 70,000 images of hand-written digits from 0 to 9. Each image has a grey-scale resolution of 28 $\\times$ 28 (i.e., 784 pixels). Each pixel has an integer value ranging from 0 (bright) to 255 (dark).\n",
    "\n",
    "<font color=red>Change the code below to select a different subset </font>"
   ]
  },
  {
   "cell_type": "code",
   "execution_count": 2,
   "metadata": {},
   "outputs": [
    {
     "name": "stderr",
     "output_type": "stream",
     "text": [
      "c:\\Users\\Samue\\anaconda3\\Lib\\site-packages\\sklearn\\datasets\\_openml.py:1002: FutureWarning: The default value of `parser` will change from `'liac-arff'` to `'auto'` in 1.4. You can set `parser='auto'` to silence this warning. Therefore, an `ImportError` will be raised from 1.4 if the dataset is dense and pandas is not installed. Note that the pandas parser may return different data types. See the Notes Section in fetch_openml's API doc for details.\n",
      "  warn(\n"
     ]
    }
   ],
   "source": [
    "X, y = fetch_openml(\"mnist_784\", version=1, return_X_y=True, as_frame=False)\n",
    "y = np.asarray([int(numeric_string) for numeric_string in y])\n",
    "\n",
    "# Change the conditions below to compare between other two digits.\n",
    "class1Indices = (y==0)\n",
    "class2Indices = (y==1)\n",
    "\n",
    "x1 = X[class1Indices]\n",
    "x2 = X[class2Indices]\n",
    "\n",
    "Xtrain = np.concatenate((x1,x2),axis=0)\n",
    "ytrain = np.concatenate((np.zeros(x1.shape[0]),np.ones(x2.shape[0])),axis=0)\n",
    "\n",
    "# Saving the temporary variables for fast retrieval\n",
    "with open('temp.pickle', 'wb') as handle:\n",
    "    pickle.dump([Xtrain, ytrain], handle)\n",
    "\n"
   ]
  },
  {
   "cell_type": "markdown",
   "metadata": {},
   "source": [
    "# Split the data to training, testing, and validation subsets"
   ]
  },
  {
   "cell_type": "code",
   "execution_count": 3,
   "metadata": {},
   "outputs": [],
   "source": [
    "# loading the temporary variables for fast retrieval\n",
    "with open('temp.pickle', 'rb') as handle:\n",
    "    Xtrain, ytrain = pickle.load(handle)\n",
    "    \n",
    "# Split the data to training, testing, and validation subsets\n",
    "    \n",
    "X_train, X_test, y_train, y_test = train_test_split(Xtrain, ytrain, test_size=0.3, random_state=1)\n",
    "\n",
    "X_train, X_val, y_train, y_val = train_test_split(X_train, y_train, test_size=0.14, random_state=1) # 0.25 x 0.8 = 0.2\n",
    "\n",
    "\n",
    "Nsamples = X_train.shape[0]\n",
    "Nfeatures = X_train.shape[1]\n"
   ]
  },
  {
   "cell_type": "markdown",
   "metadata": {},
   "source": [
    "# Accuracy of a classifier"
   ]
  },
  {
   "cell_type": "code",
   "execution_count": 4,
   "metadata": {},
   "outputs": [],
   "source": [
    "def testLinearClassifier(a, X, y):\n",
    "    X_with_bias = np.hstack((X, np.ones((X.shape[0], 1))))\n",
    "\n",
    "    predictions = np.dot(X_with_bias, a)\n",
    "    \n",
    "    predictions_label = np.where(predictions >= 0, 1, 0)\n",
    "    \n",
    "    misclassifications = np.sum(predictions_label != y)\n",
    "    \n",
    "    return misclassifications\n"
   ]
  },
  {
   "cell_type": "markdown",
   "metadata": {},
   "source": [
    "## Define and test gaussianClassifierWithIdentityCovariance "
   ]
  },
  {
   "cell_type": "code",
   "execution_count": 20,
   "metadata": {},
   "outputs": [
    {
     "name": "stdout",
     "output_type": "stream",
     "text": [
      "Training error:  0.020681128470270878\n",
      "Validation error:  0.017943409247757072\n",
      "Test error:  0.022327469553450607\n"
     ]
    },
    {
     "data": {
      "image/png": "[encoded data removed]",
      "text/plain": [
       "<Figure size 640x480 with 1 Axes>"
      ]
     },
     "metadata": {},
     "output_type": "display_data"
    }
   ],
   "source": [
    "def gaussianClassifierWithIdentityCovariance(Xtrain, ytrain):\n",
    "    biased_features = np.hstack((Xtrain, np.ones((Xtrain.shape[0], 1))))\n",
    "    mu1 = np.mean(biased_features[ytrain == 0], axis=0)\n",
    "    mu2 = np.mean(biased_features[ytrain == 1], axis=0)\n",
    "    a = mu2 - mu1\n",
    "    return a\n",
    "\n",
    "\n",
    "\n",
    "#------SIMPLE TESTING ON THE TRAINING DATA ITSELF --------------\n",
    "a = gaussianClassifierWithIdentityCovariance(X_train,y_train)\n",
    "plt.imshow(np.reshape(a[0:784],(28,28)))\n",
    "\n",
    "train = testLinearClassifier(a,X_train,y_train)\n",
    "val = testLinearClassifier(a,X_val,y_val)\n",
    "test = testLinearClassifier(a,X_test,y_test)\n",
    "# print(\"Training error: \", train/Nsamples)\n",
    "# print(\"Validation error: \", val/X_val.shape[0])\n",
    "# print(\"Test error: \", test/X_test.shape[0])"
   ]
  },
  {
   "cell_type": "markdown",
   "metadata": {},
   "source": [
    "## Define and test gaussianClassifierWithCommonCovariance "
   ]
  },
  {
   "cell_type": "code",
   "execution_count": 7,
   "metadata": {},
   "outputs": [
    {
     "name": "stdout",
     "output_type": "stream",
     "text": [
      "Training error:  0.006181859053613578\n",
      "Validation error:  0.010351966873706004\n",
      "Test error:  0.006991429860171402\n"
     ]
    },
    {
     "data": {
      "image/png": "[encoded data removed]",
      "text/plain": [
       "<Figure size 640x480 with 1 Axes>"
      ]
     },
     "metadata": {},
     "output_type": "display_data"
    }
   ],
   "source": [
    "def gaussianClassifierWithCommonCovariance(Xtrain, ytrain):\n",
    "    biased_features = np.hstack((Xtrain, np.ones((ytrain.shape[0], 1))))\n",
    "    features1 = biased_features[ytrain == 1]\n",
    "    features2 = biased_features[ytrain == 0]\n",
    "    mu1 = np.mean(features1, axis=0)\n",
    "    mu2 = np.mean(features2, axis=0)\n",
    "    covariance = np.cov(biased_features.T)\n",
    "    a = np.dot(np.linalg.pinv(covariance), (mu1 - mu2))\n",
    "    return a\n",
    "\n",
    "#------SIMPLE TESTING ON THE TRAINING DATA ITSELF --------------\n",
    "a = gaussianClassifierWithCommonCovariance(X_train,y_train)\n",
    "plt.imshow(np.reshape(a[0:784],(28,28)))\n",
    "\n",
    "train = testLinearClassifier(a,X_train,y_train)\n",
    "val = testLinearClassifier(a,X_val,y_val)\n",
    "test = testLinearClassifier(a,X_test,y_test)\n",
    "# print(\"Training error: \", train/Nsamples)\n",
    "# print(\"Validation error: \", val/X_val.shape[0])\n",
    "# print(\"Test error: \", test/X_test.shape[0])\n"
   ]
  },
  {
   "cell_type": "markdown",
   "metadata": {},
   "source": [
    "## Define and test logisticRegression \n",
    "\n",
    "You may choose the step size as 1e-4. You can try changing it.\n",
    "\n",
    "Use the expit() function from scipy.special.expit to implement sigmoid without overflow errors "
   ]
  },
  {
   "cell_type": "code",
   "execution_count": 13,
   "metadata": {},
   "outputs": [
    {
     "name": "stdout",
     "output_type": "stream",
     "text": [
      "Training error:  0.0013487692480611442\n",
      "Validation error:  0.0\n",
      "Test error:  0.0011276499774470004\n"
     ]
    },
    {
     "data": {
      "image/png": "[encoded data removed]",
      "text/plain": [
       "<Figure size 640x480 with 1 Axes>"
      ]
     },
     "metadata": {},
     "output_type": "display_data"
    }
   ],
   "source": [
    "def logisticRegression(Xtrain,ytrain,iterations=100,step_size=1e-4,verbose=False):\n",
    "    biased_features = np.hstack((Xtrain, np.ones((Xtrain.shape[0], 1))))\n",
    "    weights = 0.01 * np.random.randn(biased_features.shape[1])\n",
    "    for _ in range(iterations):\n",
    "        dot = np.dot(biased_features, weights)\n",
    "        predictions = expit(dot)\n",
    "        error = predictions - ytrain\n",
    "        gradient = np.dot(biased_features.T, error)\n",
    "        weights -= step_size * gradient\n",
    "    return weights\n",
    "    \n",
    "#------SIMPLE TESTING ON THE TRAINING DATA ITSELF --------------\n",
    "a = logisticRegression(X_train,y_train,iterations=500,verbose=False)\n",
    "plt.imshow(np.reshape(a[0:784],(28,28)))\n",
    "\n",
    "train = testLinearClassifier(a,X_train,y_train)\n",
    "val = testLinearClassifier(a,X_val,y_val)\n",
    "test = testLinearClassifier(a,X_test,y_test)\n",
    "# print(\"Training error: \", train/Nsamples)\n",
    "# print(\"Validation error: \", val/X_val.shape[0])\n",
    "# print(\"Test error: \", test/X_test.shape[0])"
   ]
  },
  {
   "cell_type": "code",
   "execution_count": 16,
   "metadata": {},
   "outputs": [
    {
     "name": "stdout",
     "output_type": "stream",
     "text": [
      "Training error:  0.0008991794987074295\n",
      "Validation error:  0.0\n",
      "Test error:  0.0011276499774470004\n"
     ]
    },
    {
     "data": {
      "image/png": "[encoded data removed]",
      "text/plain": [
       "<Figure size 640x480 with 1 Axes>"
      ]
     },
     "metadata": {},
     "output_type": "display_data"
    }
   ],
   "source": [
    "def logisticRegressionWithRegularization(Xtrain,ytrain,iterations=100,step_size=1e-4,lam=0,verbose=False):\n",
    "    biased_features = np.hstack((Xtrain, np.ones((Xtrain.shape[0], 1))))\n",
    "    weights = 0.01 * np.random.randn(biased_features.shape[1])\n",
    "    for _ in range(iterations):\n",
    "        dot = np.dot(biased_features, weights)\n",
    "        predictions = expit(dot)\n",
    "        error = predictions - ytrain\n",
    "        gradient = np.dot(biased_features.T, error) + 2 * lam * weights # Only line that changes\n",
    "        weights -= step_size * gradient\n",
    "    return weights\n",
    "\n",
    "#------SIMPLE TESTING ON THE TRAINING DATA ITSELF --------------\n",
    "a = logisticRegressionWithRegularization(X_train,y_train,iterations=500,verbose=False,lam=1)\n",
    "plt.imshow(np.reshape(a[0:784],(28,28)))\n",
    "\n",
    "train = testLinearClassifier(a,X_train,y_train)\n",
    "val = testLinearClassifier(a,X_val,y_val)\n",
    "test = testLinearClassifier(a,X_test,y_test)\n",
    "# print(\"Training error: \", train/Nsamples)\n",
    "# print(\"Validation error: \", val/X_val.shape[0])\n",
    "# print(\"Test error: \", test/X_test.shape[0])\n"
   ]
  },
  {
   "cell_type": "code",
   "execution_count": 18,
   "metadata": {},
   "outputs": [
    {
     "data": {
      "image/png": "[encoded data removed]",
      "text/plain": [
       "<Figure size 640x480 with 1 Axes>"
      ]
     },
     "metadata": {},
     "output_type": "display_data"
    }
   ],
   "source": [
    "def optimizeHyperparameters(Xtrain,ytrain):\n",
    "    lam = np.linspace(0, 100, num=100)\n",
    "    missclass = []\n",
    "    for l in lam:\n",
    "        weights = logisticRegressionWithRegularization(X_train,y_train,iterations=500,verbose=False,lam=l)\n",
    "        missclass.append(testLinearClassifier(weights,Xtrain,ytrain))\n",
    "    lamopt = lam[np.argmin(missclass)]\n",
    "    return lamopt\n",
    "\n",
    "optimal_lam = optimizeHyperparameters(X_val,y_val)\n",
    "optimal_weights = logisticRegressionWithRegularization(X_train,y_train,iterations=500,lam=optimal_lam)\n",
    "plt.imshow(np.reshape(optimal_weights[:-1],(28,28)))\n",
    "\n",
    "train = testLinearClassifier(optimal_weights,X_train,y_train)\n",
    "val = testLinearClassifier(optimal_weights,X_val,y_val)\n",
    "test = testLinearClassifier(optimal_weights,X_test,y_test)\n"
   ]
  },
  {
   "cell_type": "markdown",
   "metadata": {},
   "source": [
    "# REPORT TEST ERRORS OF THE BEST MODELS\n",
    "\n",
    "YOUR CODE BELOW"
   ]
  },
  {
   "cell_type": "code",
   "execution_count": 23,
   "metadata": {},
   "outputs": [
    {
     "name": "stdout",
     "output_type": "stream",
     "text": [
      "gaussianClassifierWithIdentityCovariance Results:\n",
      "Training error: 184/8897 = 2.07%\n",
      "Validation error: 26/8897 = 1.79%\n",
      "Test error: 99/8897 = 2.23%\n",
      "\n",
      "Gaussian Classifier with Common Covariance Results:\n",
      "Training error: 55/8897 = 0.62%\n",
      "Validation error: 15/8897 = 1.04%\n",
      "Test error: 31/8897 = 0.70%\n",
      "\n",
      "Logistic Regression Results:\n",
      "Training error: 8/8897 = 0.09%\n",
      "Validation error: 0/8897 = 0.00%\n",
      "Test error: 4/8897 = 0.09%\n",
      "\n",
      "Logitic Regression with Regularization Results:\n"
     ]
    },
    {
     "ename": "KeyboardInterrupt",
     "evalue": "",
     "output_type": "error",
     "traceback": [
      "\u001b[1;31m---------------------------------------------------------------------------\u001b[0m",
      "\u001b[1;31mKeyboardInterrupt\u001b[0m                         Traceback (most recent call last)",
      "Cell \u001b[1;32mIn[23], line 33\u001b[0m\n\u001b[0;32m     31\u001b[0m \u001b[38;5;66;03m# Logitic Regression with Regularization\u001b[39;00m\n\u001b[0;32m     32\u001b[0m \u001b[38;5;28mprint\u001b[39m(\u001b[38;5;124m\"\u001b[39m\u001b[38;5;124mLogitic Regression with Regularization Results:\u001b[39m\u001b[38;5;124m\"\u001b[39m)\n\u001b[1;32m---> 33\u001b[0m weights \u001b[38;5;241m=\u001b[39m logisticRegressionWithRegularization(X_train,y_train, iterations\u001b[38;5;241m=\u001b[39m\u001b[38;5;241m500\u001b[39m, step_size\u001b[38;5;241m=\u001b[39m\u001b[38;5;241m1e-4\u001b[39m, lam\u001b[38;5;241m=\u001b[39m\u001b[38;5;241m1\u001b[39m)\n\u001b[0;32m     34\u001b[0m train \u001b[38;5;241m=\u001b[39m testLinearClassifier(weights,X_train,y_train)\n\u001b[0;32m     35\u001b[0m val \u001b[38;5;241m=\u001b[39m testLinearClassifier(weights,X_val,y_val)\n",
      "Cell \u001b[1;32mIn[16], line 5\u001b[0m, in \u001b[0;36mlogisticRegressionWithRegularization\u001b[1;34m(Xtrain, ytrain, iterations, step_size, lam, verbose)\u001b[0m\n\u001b[0;32m      3\u001b[0m weights \u001b[38;5;241m=\u001b[39m \u001b[38;5;241m0.01\u001b[39m \u001b[38;5;241m*\u001b[39m np\u001b[38;5;241m.\u001b[39mrandom\u001b[38;5;241m.\u001b[39mrandn(biased_features\u001b[38;5;241m.\u001b[39mshape[\u001b[38;5;241m1\u001b[39m])\n\u001b[0;32m      4\u001b[0m \u001b[38;5;28;01mfor\u001b[39;00m _ \u001b[38;5;129;01min\u001b[39;00m \u001b[38;5;28mrange\u001b[39m(iterations):\n\u001b[1;32m----> 5\u001b[0m     dot \u001b[38;5;241m=\u001b[39m np\u001b[38;5;241m.\u001b[39mdot(biased_features, weights)\n\u001b[0;32m      6\u001b[0m     predictions \u001b[38;5;241m=\u001b[39m expit(dot)\n\u001b[0;32m      7\u001b[0m     error \u001b[38;5;241m=\u001b[39m predictions \u001b[38;5;241m-\u001b[39m ytrain\n",
      "File \u001b[1;32m<__array_function__ internals>:200\u001b[0m, in \u001b[0;36mdot\u001b[1;34m(*args, **kwargs)\u001b[0m\n",
      "\u001b[1;31mKeyboardInterrupt\u001b[0m: "
     ]
    }
   ],
   "source": [
    "print(\"gaussianClassifierWithIdentityCovariance Results:\")\n",
    "weights = gaussianClassifierWithIdentityCovariance(X_train,y_train)\n",
    "train = testLinearClassifier(weights,X_train,y_train)\n",
    "val = testLinearClassifier(weights,X_val,y_val)\n",
    "test = testLinearClassifier(weights,X_test,y_test)\n",
    "print(f\"Training error: {train}/{X_train.shape[0]} = {train/X_train.shape[0] * 100:.2f}%\")\n",
    "print(f\"Validation error: {val}/{X_train.shape[0]} = {val/X_val.shape[0] * 100:.2f}%\")\n",
    "print(f\"Test error: {test}/{X_train.shape[0]} = {test/X_test.shape[0] * 100:.2f}%\\r\\n\")\n",
    "\n",
    "print(\"gaussianClassifierWithCommonCovariance Results:\")\n",
    "weights = gaussianClassifierWithCommonCovariance(X_train,y_train)\n",
    "train = testLinearClassifier(weights,X_train,y_train)\n",
    "val = testLinearClassifier(weights,X_val,y_val)\n",
    "test = testLinearClassifier(weights,X_test,y_test)\n",
    "print(f\"Training error: {train}/{X_train.shape[0]} = {train/X_train.shape[0] * 100:.2f}%\")\n",
    "print(f\"Validation error: {val}/{X_train.shape[0]} = {val/X_val.shape[0] * 100:.2f}%\")\n",
    "print(f\"Test error: {test}/{X_train.shape[0]} = {test/X_test.shape[0] * 100:.2f}%\\r\\n\")\n",
    "\n",
    "print(\"logisticRegression Results:\")\n",
    "weights = logisticRegression(X_train,y_train, iterations=500, step_size=1e-4)\n",
    "train = testLinearClassifier(weights,X_train,y_train)\n",
    "val = testLinearClassifier(weights,X_val,y_val)\n",
    "test = testLinearClassifier(weights,X_test,y_test)\n",
    "print(f\"Training error: {train}/{X_train.shape[0]} = {train/X_train.shape[0] * 100:.2f}%\")\n",
    "print(f\"Validation error: {val}/{X_train.shape[0]} = {val/X_val.shape[0] * 100:.2f}%\")\n",
    "print(f\"Test error: {test}/{X_train.shape[0]} = {test/X_test.shape[0] * 100:.2f}%\\r\\n\")\n",
    "\n",
    "print(\"logisticRegressionWithRegularization Results:\")\n",
    "weights = logisticRegressionWithRegularization(X_train,y_train, iterations=500, step_size=1e-4, lam=1)\n",
    "train = testLinearClassifier(weights,X_train,y_train)\n",
    "val = testLinearClassifier(weights,X_val,y_val)\n",
    "test = testLinearClassifier(weights,X_test,y_test)\n",
    "\n",
    "print(f\"Training error: {train}/{X_train.shape[0]} = {train/X_train.shape[0] * 100:.2f}%\")\n",
    "print(f\"Validation error: {val}/{X_train.shape[0]} = {val/X_val.shape[0] * 100:.2f}%\")\n",
    "print(f\"Test error: {test}/{X_train.shape[0]} = {test/X_test.shape[0] * 100:.2f}%\\r\\n\")\n",
    "\n",
    "print(\"logisticRegressionWithRegularization + optimizeHyperparameters Results:\")\n",
    "optimal_lam = optimizeHyperparameters(X_val,y_val)\n",
    "weights = logisticRegressionWithRegularization(X_train,y_train,iterations=500,lam=optimal_lam)\n",
    "train = testLinearClassifier(weights,X_train,y_train)\n",
    "val = testLinearClassifier(weights,X_val,y_val)\n",
    "test = testLinearClassifier(weights,X_test,y_test)\n",
    "\n",
    "print(f\"Training error: {train}/{X_train.shape[0]} = {train/X_train.shape[0] * 100:.2f}%\")\n",
    "print(f\"Validation error: {val}/{X_train.shape[0]} = {val/X_val.shape[0] * 100:.2f}%\")\n",
    "print(f\"Test error: {test}/{X_train.shape[0]} = {test/X_test.shape[0] * 100:.2f}%\\r\\n\")\n"
   ]
  }
 ],
 "metadata": {
  "anaconda-cloud": {},
  "kernelspec": {
   "display_name": "Python 3 (ipykernel)",
   "language": "python",
   "name": "python3"
  },
  "language_info": {
   "codemirror_mode": {
    "name": "ipython",
    "version": 3
   },
   "file_extension": ".py",
   "mimetype": "text/x-python",
   "name": "python",
   "nbconvert_exporter": "python",
   "pygments_lexer": "ipython3",
   "version": "3.11.4"
  }
 },
 "nbformat": 4,
 "nbformat_minor": 4
}
